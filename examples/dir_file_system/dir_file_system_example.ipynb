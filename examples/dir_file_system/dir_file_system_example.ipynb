{
 "cells": [
  {
   "cell_type": "markdown",
   "id": "7fb27b941602401d91542211134fc71a",
   "metadata": {},
   "source": [
    "# DirFileSystem Examples with fsspec-utils\n",
    "\n",
    "This notebook demonstrates how to use the DirFileSystem functionality with fsspec-utils for both S3 and local paths."
   ]
  },
  {
   "cell_type": "code",
   "execution_count": null,
   "id": "acae54e37e7d407bbb7b55eff062a284",
   "metadata": {},
   "outputs": [],
   "source": [
    "from fsspec_utils import filesystem"
   ]
  },
  {
   "cell_type": "markdown",
   "id": "9a63283cbaf04dbcab1f6479b197f3a8",
   "metadata": {},
   "source": [
    "## DirFileSystem for S3\n",
    "\n",
    "Create Directory FileSystem instances for S3 paths."
   ]
  },
  {
   "cell_type": "code",
   "execution_count": null,
   "id": "8dd0d8092fe74a7c96281538738b07e2",
   "metadata": {},
   "outputs": [],
   "source": [
    "# S3 Directory FileSystem for my-bucket. dirfs=True is optional, as it is the default behavior for paths ending with a slash.\n",
    "# Replace \"my-bucket\" with your actual S3 bucket name.\n",
    "fs_dir_s3 = filesystem(\"s3://my-bucket\", dirfs=True)"
   ]
  },
  {
   "cell_type": "code",
   "execution_count": null,
   "id": "72eea5119410473aa328ad9291626812",
   "metadata": {},
   "outputs": [],
   "source": [
    "# S3 Directory FileSystem with storage_options\n",
    "fs_dir_s3_so = filesystem(\n",
    "    \"s3://my-bucket\", storage_options={\"key\": \"your_key\", \"secret\": \"your_secret\"}\n",
    ")"
   ]
  },
  {
   "cell_type": "code",
   "execution_count": null,
   "id": "8edb47106e1a46a883d545849b8ab81b",
   "metadata": {},
   "outputs": [],
   "source": [
    "print(f\"S3 DirFileSystem (default): {fs_dir_s3}\")\n",
    "print(f\"S3 DirFileSystem (with storage_options): {fs_dir_s3_so}\")"
   ]
  },
  {
   "cell_type": "markdown",
   "id": "10185d26023b46108eb7d9f57d49d2b3",
   "metadata": {},
   "source": [
    "## DirFileSystem for Local Path\n",
    "\n",
    "Create a Directory FileSystem instance for a local path."
   ]
  },
  {
   "cell_type": "code",
   "execution_count": null,
   "id": "8763a12b2bbd4a93a75aff182afb95dc",
   "metadata": {},
   "outputs": [],
   "source": [
    "# Local Directory FileSystem.\n",
    "fs_dir_local = filesystem(\"./my_local_dir/\", dirfs=True)"
   ]
  },
  {
   "cell_type": "code",
   "execution_count": null,
   "id": "7623eae2785240b9bd12b16a66d81610",
   "metadata": {},
   "outputs": [],
   "source": [
    "print(f\"Local DirFileSystem: {fs_dir_local}\")"
   ]
  }
 ],
 "metadata": {
  "kernelspec": {
   "display_name": "Python 3",
   "language": "python",
   "name": "python3"
  },
  "language_info": {
   "name": "python",
   "version": "3.9.7"
  }
 },
 "nbformat": 4,
 "nbformat_minor": 5
}